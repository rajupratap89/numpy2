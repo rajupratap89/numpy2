{
 "cells": [
  {
   "cell_type": "code",
   "execution_count": 1,
   "id": "ef884cf2-2a0f-4c34-a4c3-ddb0c0f5b402",
   "metadata": {},
   "outputs": [],
   "source": [
    "#numpy-Array Manipulation"
   ]
  },
  {
   "cell_type": "code",
   "execution_count": 2,
   "id": "b44ac805-be81-4d93-a377-711019f6c8c0",
   "metadata": {},
   "outputs": [],
   "source": [
    "import numpy as np"
   ]
  },
  {
   "cell_type": "code",
   "execution_count": 3,
   "id": "ecac50ba-ebae-4664-829d-1fff9ac1352a",
   "metadata": {},
   "outputs": [],
   "source": [
    "ar=np.random.randint(1,10 ,(4,5))"
   ]
  },
  {
   "cell_type": "code",
   "execution_count": 4,
   "id": "707cd489-106f-4866-ae63-bbfd8421ffa6",
   "metadata": {},
   "outputs": [
    {
     "data": {
      "text/plain": [
       "array([[6, 2, 4, 8, 1],\n",
       "       [2, 2, 4, 4, 5],\n",
       "       [7, 6, 5, 1, 5],\n",
       "       [1, 1, 4, 2, 3]])"
      ]
     },
     "execution_count": 4,
     "metadata": {},
     "output_type": "execute_result"
    }
   ],
   "source": [
    "ar"
   ]
  },
  {
   "cell_type": "code",
   "execution_count": 7,
   "id": "4bf2b7a8-2eff-47b5-8377-dc32347bda17",
   "metadata": {},
   "outputs": [],
   "source": [
    "ar1=ar.reshape(10,2)"
   ]
  },
  {
   "cell_type": "code",
   "execution_count": 8,
   "id": "4725a196-de64-4afe-9d3c-f622420500e6",
   "metadata": {},
   "outputs": [
    {
     "data": {
      "text/plain": [
       "array([[6, 2],\n",
       "       [4, 8],\n",
       "       [1, 2],\n",
       "       [2, 4],\n",
       "       [4, 5],\n",
       "       [7, 6],\n",
       "       [5, 1],\n",
       "       [5, 1],\n",
       "       [1, 4],\n",
       "       [2, 3]])"
      ]
     },
     "execution_count": 8,
     "metadata": {},
     "output_type": "execute_result"
    }
   ],
   "source": [
    "ar1"
   ]
  },
  {
   "cell_type": "code",
   "execution_count": 9,
   "id": "8349128a-d75b-4b52-a53e-58fc38006f5a",
   "metadata": {},
   "outputs": [
    {
     "data": {
      "text/plain": [
       "array([[6, 4, 1, 2, 4, 7, 5, 5, 1, 2],\n",
       "       [2, 8, 2, 4, 5, 6, 1, 1, 4, 3]])"
      ]
     },
     "execution_count": 9,
     "metadata": {},
     "output_type": "execute_result"
    }
   ],
   "source": [
    "ar1.T"
   ]
  },
  {
   "cell_type": "code",
   "execution_count": 10,
   "id": "ab3eefbf-8081-47e5-9cd3-a438398e52f5",
   "metadata": {},
   "outputs": [
    {
     "data": {
      "text/plain": [
       "array([6, 2, 4, 8, 1, 2, 2, 4, 4, 5, 7, 6, 5, 1, 5, 1, 1, 4, 2, 3])"
      ]
     },
     "execution_count": 10,
     "metadata": {},
     "output_type": "execute_result"
    }
   ],
   "source": [
    "ar1.flatten()"
   ]
  },
  {
   "cell_type": "code",
   "execution_count": 12,
   "id": "b76b3fc2-042e-4de9-ba74-21961db2e3a5",
   "metadata": {},
   "outputs": [],
   "source": [
    "ar2=np.array([1,2,3,4])"
   ]
  },
  {
   "cell_type": "code",
   "execution_count": 13,
   "id": "fd9c00cb-ef9a-4ba5-b26a-4def6ee9e49a",
   "metadata": {},
   "outputs": [
    {
     "data": {
      "text/plain": [
       "array([1, 2, 3, 4])"
      ]
     },
     "execution_count": 13,
     "metadata": {},
     "output_type": "execute_result"
    }
   ],
   "source": [
    "ar2"
   ]
  },
  {
   "cell_type": "code",
   "execution_count": 14,
   "id": "a2cb1bcd-ca9c-4c15-aa97-8090bfec8c2c",
   "metadata": {},
   "outputs": [
    {
     "data": {
      "text/plain": [
       "array([[1],\n",
       "       [2],\n",
       "       [3],\n",
       "       [4]])"
      ]
     },
     "execution_count": 14,
     "metadata": {},
     "output_type": "execute_result"
    }
   ],
   "source": [
    "np.expand_dims(ar2 , axis=1)"
   ]
  },
  {
   "cell_type": "code",
   "execution_count": 15,
   "id": "cf2e3c90-f82e-4ccb-a60c-06bd537258cd",
   "metadata": {},
   "outputs": [
    {
     "data": {
      "text/plain": [
       "array([[6, 2, 4, 8, 1],\n",
       "       [2, 2, 4, 4, 5],\n",
       "       [7, 6, 5, 1, 5],\n",
       "       [1, 1, 4, 2, 3]])"
      ]
     },
     "execution_count": 15,
     "metadata": {},
     "output_type": "execute_result"
    }
   ],
   "source": [
    "ar"
   ]
  },
  {
   "cell_type": "code",
   "execution_count": 19,
   "id": "975e5f38-9bf8-48f8-94cf-80b5a86c83c7",
   "metadata": {},
   "outputs": [
    {
     "data": {
      "text/plain": [
       "array([[[6, 2, 4, 8, 1],\n",
       "        [2, 2, 4, 4, 5],\n",
       "        [7, 6, 5, 1, 5],\n",
       "        [1, 1, 4, 2, 3]]])"
      ]
     },
     "execution_count": 19,
     "metadata": {},
     "output_type": "execute_result"
    }
   ],
   "source": [
    "np.expand_dims(ar , axis=0)"
   ]
  },
  {
   "cell_type": "code",
   "execution_count": 20,
   "id": "5168cb1e-dbff-41fc-841b-e6f90fc6c1db",
   "metadata": {},
   "outputs": [],
   "source": [
    "ar3=np.array([[1] ,[2] ,[3]])"
   ]
  },
  {
   "cell_type": "code",
   "execution_count": 21,
   "id": "b8327092-5c9d-4aff-bc8f-b0ea4a612aad",
   "metadata": {},
   "outputs": [
    {
     "data": {
      "text/plain": [
       "array([[1],\n",
       "       [2],\n",
       "       [3]])"
      ]
     },
     "execution_count": 21,
     "metadata": {},
     "output_type": "execute_result"
    }
   ],
   "source": [
    "ar3"
   ]
  },
  {
   "cell_type": "code",
   "execution_count": 22,
   "id": "242f9a34-d4bb-4faa-ac5b-4f8e8f949ff7",
   "metadata": {},
   "outputs": [
    {
     "data": {
      "text/plain": [
       "array([1, 2, 3])"
      ]
     },
     "execution_count": 22,
     "metadata": {},
     "output_type": "execute_result"
    }
   ],
   "source": [
    "np.squeeze(ar3)"
   ]
  },
  {
   "cell_type": "code",
   "execution_count": 1,
   "id": "77457477-4bcf-4ae8-8adc-49f4bbd20eeb",
   "metadata": {},
   "outputs": [],
   "source": [
    "import numpy as np"
   ]
  },
  {
   "cell_type": "code",
   "execution_count": 2,
   "id": "32aff33a-00ce-44b4-b4da-ce332ce48655",
   "metadata": {},
   "outputs": [
    {
     "ename": "NameError",
     "evalue": "name 'ar1' is not defined",
     "output_type": "error",
     "traceback": [
      "\u001b[0;31m---------------------------------------------------------------------------\u001b[0m",
      "\u001b[0;31mNameError\u001b[0m                                 Traceback (most recent call last)",
      "Cell \u001b[0;32mIn[2], line 1\u001b[0m\n\u001b[0;32m----> 1\u001b[0m \u001b[43mar1\u001b[49m\n",
      "\u001b[0;31mNameError\u001b[0m: name 'ar1' is not defined"
     ]
    }
   ],
   "source": [
    "ar1"
   ]
  },
  {
   "cell_type": "code",
   "execution_count": 3,
   "id": "3dfac71e-8e3f-4221-9a45-a85f4870ca40",
   "metadata": {},
   "outputs": [],
   "source": [
    "ar3=[1,2,3,4,5]"
   ]
  },
  {
   "cell_type": "code",
   "execution_count": 4,
   "id": "9ec37c21-e672-4583-93c3-9baea9a011cc",
   "metadata": {},
   "outputs": [
    {
     "data": {
      "text/plain": [
       "array([1, 1, 1, 1, 2, 2, 2, 2, 3, 3, 3, 3, 4, 4, 4, 4, 5, 5, 5, 5])"
      ]
     },
     "execution_count": 4,
     "metadata": {},
     "output_type": "execute_result"
    }
   ],
   "source": [
    "np.repeat(ar3 ,4)"
   ]
  },
  {
   "cell_type": "code",
   "execution_count": 5,
   "id": "da2b9370-f29e-442e-8bd4-100d44573598",
   "metadata": {},
   "outputs": [
    {
     "data": {
      "text/plain": [
       "array([4, 5, 1, 2, 3])"
      ]
     },
     "execution_count": 5,
     "metadata": {},
     "output_type": "execute_result"
    }
   ],
   "source": [
    "np.roll(ar3 ,2)"
   ]
  },
  {
   "cell_type": "code",
   "execution_count": 6,
   "id": "117f9a1c-a013-4f6e-b77a-f97c37674513",
   "metadata": {},
   "outputs": [
    {
     "data": {
      "text/plain": [
       "array([[1, 0, 0, 0, 0],\n",
       "       [0, 2, 0, 0, 0],\n",
       "       [0, 0, 3, 0, 0],\n",
       "       [0, 0, 0, 4, 0],\n",
       "       [0, 0, 0, 0, 5]])"
      ]
     },
     "execution_count": 6,
     "metadata": {},
     "output_type": "execute_result"
    }
   ],
   "source": [
    "np.diag(ar3)"
   ]
  },
  {
   "cell_type": "code",
   "execution_count": 7,
   "id": "f62f25d4-b13a-41a3-8f66-bf5f72260da8",
   "metadata": {},
   "outputs": [],
   "source": [
    "ar4=np.random.randint(1,10 ,(3,4))"
   ]
  },
  {
   "cell_type": "code",
   "execution_count": 8,
   "id": "950b59f9-1c6c-485d-9fff-d63594d6635f",
   "metadata": {},
   "outputs": [],
   "source": [
    "ar5=np.random.randint(1,10 ,(3,4))"
   ]
  },
  {
   "cell_type": "code",
   "execution_count": 9,
   "id": "7aa87f84-565b-40f3-b11b-84d37de2e22e",
   "metadata": {},
   "outputs": [
    {
     "data": {
      "text/plain": [
       "array([[3, 6, 4, 8],\n",
       "       [4, 9, 6, 8],\n",
       "       [1, 7, 9, 5]])"
      ]
     },
     "execution_count": 9,
     "metadata": {},
     "output_type": "execute_result"
    }
   ],
   "source": [
    "ar4"
   ]
  },
  {
   "cell_type": "code",
   "execution_count": 10,
   "id": "01acae87-21b7-4790-8146-ef75db4d8230",
   "metadata": {},
   "outputs": [
    {
     "data": {
      "text/plain": [
       "array([[9, 5, 2, 7],\n",
       "       [6, 3, 3, 5],\n",
       "       [8, 3, 3, 2]])"
      ]
     },
     "execution_count": 10,
     "metadata": {},
     "output_type": "execute_result"
    }
   ],
   "source": [
    "ar5"
   ]
  },
  {
   "cell_type": "code",
   "execution_count": 11,
   "id": "bb6d1d81-cf88-4bd5-b67f-b6e0f7a4b772",
   "metadata": {},
   "outputs": [
    {
     "data": {
      "text/plain": [
       "array([[12, 11,  6, 15],\n",
       "       [10, 12,  9, 13],\n",
       "       [ 9, 10, 12,  7]])"
      ]
     },
     "execution_count": 11,
     "metadata": {},
     "output_type": "execute_result"
    }
   ],
   "source": [
    "ar4+ar5"
   ]
  },
  {
   "cell_type": "code",
   "execution_count": 12,
   "id": "507d68d7-9d1a-42c7-b120-391dcd8c3b07",
   "metadata": {},
   "outputs": [
    {
     "data": {
      "text/plain": [
       "array([[27, 30,  8, 56],\n",
       "       [24, 27, 18, 40],\n",
       "       [ 8, 21, 27, 10]])"
      ]
     },
     "execution_count": 12,
     "metadata": {},
     "output_type": "execute_result"
    }
   ],
   "source": [
    "ar4*ar5"
   ]
  },
  {
   "cell_type": "code",
   "execution_count": 13,
   "id": "41ececbf-db8c-42de-b513-2f6beb94ccfb",
   "metadata": {},
   "outputs": [
    {
     "data": {
      "text/plain": [
       "array([[3, 1, 0, 1],\n",
       "       [4, 0, 0, 3],\n",
       "       [1, 1, 0, 1]])"
      ]
     },
     "execution_count": 13,
     "metadata": {},
     "output_type": "execute_result"
    }
   ],
   "source": [
    "ar4%ar5"
   ]
  },
  {
   "cell_type": "code",
   "execution_count": 15,
   "id": "a8b16265-8950-4fb3-aa9b-ecdc9fe6febf",
   "metadata": {},
   "outputs": [
    {
     "data": {
      "text/plain": [
       "array([[0, 5, 2, 7],\n",
       "       [2, 3, 3, 5],\n",
       "       [0, 3, 3, 2]])"
      ]
     },
     "execution_count": 15,
     "metadata": {},
     "output_type": "execute_result"
    }
   ],
   "source": [
    "ar5%ar4"
   ]
  },
  {
   "cell_type": "code",
   "execution_count": 16,
   "id": "728e4b15-7b2b-45df-953c-fb009c9b3ed9",
   "metadata": {},
   "outputs": [
    {
     "data": {
      "text/plain": [
       "array([[False,  True,  True,  True],\n",
       "       [False,  True,  True,  True],\n",
       "       [False,  True,  True,  True]])"
      ]
     },
     "execution_count": 16,
     "metadata": {},
     "output_type": "execute_result"
    }
   ],
   "source": [
    "ar4>ar5"
   ]
  },
  {
   "cell_type": "code",
   "execution_count": 17,
   "id": "665cec70-6ccd-4755-9ed9-45f310b56ade",
   "metadata": {},
   "outputs": [],
   "source": [
    "#Numpy-string function "
   ]
  },
  {
   "cell_type": "code",
   "execution_count": 18,
   "id": "d973de80-e93a-43e7-93fe-98958be99c24",
   "metadata": {},
   "outputs": [],
   "source": [
    "ar6=np.array(['raju' , 'pratap'])"
   ]
  },
  {
   "cell_type": "code",
   "execution_count": 19,
   "id": "8dd6ceda-e6a1-49cf-bc1b-973985508085",
   "metadata": {},
   "outputs": [
    {
     "data": {
      "text/plain": [
       "array(['raju', 'pratap'], dtype='<U6')"
      ]
     },
     "execution_count": 19,
     "metadata": {},
     "output_type": "execute_result"
    }
   ],
   "source": [
    "ar6"
   ]
  },
  {
   "cell_type": "code",
   "execution_count": 20,
   "id": "f3ff4236-2dba-4de7-a70d-15ec508d54c6",
   "metadata": {},
   "outputs": [
    {
     "data": {
      "text/plain": [
       "array(['RAJU', 'PRATAP'], dtype='<U6')"
      ]
     },
     "execution_count": 20,
     "metadata": {},
     "output_type": "execute_result"
    }
   ],
   "source": [
    "np.char.upper(ar6)"
   ]
  },
  {
   "cell_type": "code",
   "execution_count": 21,
   "id": "e561d6cd-34dd-4f58-b31e-b6adbd4d840a",
   "metadata": {},
   "outputs": [
    {
     "data": {
      "text/plain": [
       "array(['Raju', 'Pratap'], dtype='<U6')"
      ]
     },
     "execution_count": 21,
     "metadata": {},
     "output_type": "execute_result"
    }
   ],
   "source": [
    "np.char.title(ar6)"
   ]
  },
  {
   "cell_type": "code",
   "execution_count": 22,
   "id": "2d9a7f91-6755-41c5-a3f4-d406d197cc61",
   "metadata": {},
   "outputs": [],
   "source": [
    "#Numpy-Mathematical function"
   ]
  },
  {
   "cell_type": "code",
   "execution_count": 24,
   "id": "21979417-e52d-4ccf-963f-fc2df9aac34e",
   "metadata": {},
   "outputs": [
    {
     "data": {
      "text/plain": [
       "array([[3, 6, 4, 8],\n",
       "       [4, 9, 6, 8],\n",
       "       [1, 7, 9, 5]])"
      ]
     },
     "execution_count": 24,
     "metadata": {},
     "output_type": "execute_result"
    }
   ],
   "source": [
    "ar4"
   ]
  },
  {
   "cell_type": "code",
   "execution_count": 25,
   "id": "26c91172-4d2e-44e9-9eb9-1199747a9cc9",
   "metadata": {},
   "outputs": [
    {
     "data": {
      "text/plain": [
       "array([[ 0.14112001, -0.2794155 , -0.7568025 ,  0.98935825],\n",
       "       [-0.7568025 ,  0.41211849, -0.2794155 ,  0.98935825],\n",
       "       [ 0.84147098,  0.6569866 ,  0.41211849, -0.95892427]])"
      ]
     },
     "execution_count": 25,
     "metadata": {},
     "output_type": "execute_result"
    }
   ],
   "source": [
    "np.sin(ar4)"
   ]
  },
  {
   "cell_type": "code",
   "execution_count": 26,
   "id": "86b66561-dc38-4927-ab81-fd1d60e77794",
   "metadata": {},
   "outputs": [
    {
     "data": {
      "text/plain": [
       "array([[-0.9899925 ,  0.96017029, -0.65364362, -0.14550003],\n",
       "       [-0.65364362, -0.91113026,  0.96017029, -0.14550003],\n",
       "       [ 0.54030231,  0.75390225, -0.91113026,  0.28366219]])"
      ]
     },
     "execution_count": 26,
     "metadata": {},
     "output_type": "execute_result"
    }
   ],
   "source": [
    "np.cos(ar4)"
   ]
  },
  {
   "cell_type": "code",
   "execution_count": 28,
   "id": "9e59b7d7-ee65-45e2-8722-a7bdbaff4066",
   "metadata": {},
   "outputs": [
    {
     "data": {
      "text/plain": [
       "array([[ 9, 36, 16, 64],\n",
       "       [16, 81, 36, 64],\n",
       "       [ 1, 49, 81, 25]])"
      ]
     },
     "execution_count": 28,
     "metadata": {},
     "output_type": "execute_result"
    }
   ],
   "source": [
    "np.power(ar4 ,2)"
   ]
  },
  {
   "cell_type": "code",
   "execution_count": 29,
   "id": "9aba0793-bd26-4d68-b9b0-b708a4f052b2",
   "metadata": {},
   "outputs": [
    {
     "data": {
      "text/plain": [
       "5.833333333333333"
      ]
     },
     "execution_count": 29,
     "metadata": {},
     "output_type": "execute_result"
    }
   ],
   "source": [
    "np.mean(ar4)"
   ]
  },
  {
   "cell_type": "code",
   "execution_count": 31,
   "id": "05508b1d-e20c-4695-bcc1-79cd1b846be4",
   "metadata": {},
   "outputs": [
    {
     "data": {
      "text/plain": [
       "6.0"
      ]
     },
     "execution_count": 31,
     "metadata": {},
     "output_type": "execute_result"
    }
   ],
   "source": [
    "np.median(ar4)"
   ]
  },
  {
   "cell_type": "code",
   "execution_count": null,
   "id": "eb2d1281-a3dc-4141-8a57-138c5320f168",
   "metadata": {},
   "outputs": [],
   "source": []
  }
 ],
 "metadata": {
  "kernelspec": {
   "display_name": "Python 3 (ipykernel)",
   "language": "python",
   "name": "python3"
  },
  "language_info": {
   "codemirror_mode": {
    "name": "ipython",
    "version": 3
   },
   "file_extension": ".py",
   "mimetype": "text/x-python",
   "name": "python",
   "nbconvert_exporter": "python",
   "pygments_lexer": "ipython3",
   "version": "3.10.8"
  }
 },
 "nbformat": 4,
 "nbformat_minor": 5
}
